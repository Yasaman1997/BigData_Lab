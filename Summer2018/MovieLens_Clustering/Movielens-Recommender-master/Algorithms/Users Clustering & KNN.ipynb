{
 "cells": [
  {
   "cell_type": "code",
   "execution_count": 1,
   "metadata": {
    "collapsed": false
   },
   "outputs": [
    {
     "name": "stdout",
     "output_type": "stream",
     "text": [
      "/Users/TaihuaLi/Desktop/Projects/Netflix Prize\n"
     ]
    }
   ],
   "source": [
    "cd \"/Users/TaihuaLi/Desktop/Projects/Netflix Prize/\""
   ]
  },
  {
   "cell_type": "code",
   "execution_count": 2,
   "metadata": {
    "collapsed": true
   },
   "outputs": [],
   "source": [
    "import numpy as np\n",
    "import pandas as pd"
   ]
  },
  {
   "cell_type": "code",
   "execution_count": 3,
   "metadata": {
    "collapsed": true
   },
   "outputs": [],
   "source": [
    "ratings = pd.read_csv(\"Rating Zeros.csv\", index_col=0) # row: users  col: movies\n",
    "items = pd.read_csv(\"items.csv\", index_col=0) # movies information\n",
    "genre = pd.read_csv(\"genre.csv\") # movie genre information"
   ]
  },
  {
   "cell_type": "code",
   "execution_count": 4,
   "metadata": {
    "collapsed": false
   },
   "outputs": [
    {
     "data": {
      "text/html": [
       "<div>\n",
       "<table border=\"1\" class=\"dataframe\">\n",
       "  <thead>\n",
       "    <tr style=\"text-align: right;\">\n",
       "      <th></th>\n",
       "      <th>1</th>\n",
       "      <th>2</th>\n",
       "      <th>3</th>\n",
       "      <th>4</th>\n",
       "      <th>5</th>\n",
       "      <th>6</th>\n",
       "      <th>7</th>\n",
       "      <th>8</th>\n",
       "      <th>9</th>\n",
       "      <th>10</th>\n",
       "      <th>...</th>\n",
       "      <th>1673</th>\n",
       "      <th>1674</th>\n",
       "      <th>1675</th>\n",
       "      <th>1676</th>\n",
       "      <th>1677</th>\n",
       "      <th>1678</th>\n",
       "      <th>1679</th>\n",
       "      <th>1680</th>\n",
       "      <th>1681</th>\n",
       "      <th>1682</th>\n",
       "    </tr>\n",
       "  </thead>\n",
       "  <tbody>\n",
       "    <tr>\n",
       "      <th>1</th>\n",
       "      <td>5</td>\n",
       "      <td>3</td>\n",
       "      <td>4</td>\n",
       "      <td>3</td>\n",
       "      <td>3</td>\n",
       "      <td>5</td>\n",
       "      <td>4</td>\n",
       "      <td>1</td>\n",
       "      <td>5</td>\n",
       "      <td>3</td>\n",
       "      <td>...</td>\n",
       "      <td>0</td>\n",
       "      <td>0</td>\n",
       "      <td>0</td>\n",
       "      <td>0</td>\n",
       "      <td>0</td>\n",
       "      <td>0</td>\n",
       "      <td>0</td>\n",
       "      <td>0</td>\n",
       "      <td>0</td>\n",
       "      <td>0</td>\n",
       "    </tr>\n",
       "    <tr>\n",
       "      <th>2</th>\n",
       "      <td>4</td>\n",
       "      <td>0</td>\n",
       "      <td>0</td>\n",
       "      <td>0</td>\n",
       "      <td>0</td>\n",
       "      <td>0</td>\n",
       "      <td>0</td>\n",
       "      <td>0</td>\n",
       "      <td>0</td>\n",
       "      <td>2</td>\n",
       "      <td>...</td>\n",
       "      <td>0</td>\n",
       "      <td>0</td>\n",
       "      <td>0</td>\n",
       "      <td>0</td>\n",
       "      <td>0</td>\n",
       "      <td>0</td>\n",
       "      <td>0</td>\n",
       "      <td>0</td>\n",
       "      <td>0</td>\n",
       "      <td>0</td>\n",
       "    </tr>\n",
       "    <tr>\n",
       "      <th>3</th>\n",
       "      <td>0</td>\n",
       "      <td>0</td>\n",
       "      <td>0</td>\n",
       "      <td>0</td>\n",
       "      <td>0</td>\n",
       "      <td>0</td>\n",
       "      <td>0</td>\n",
       "      <td>0</td>\n",
       "      <td>0</td>\n",
       "      <td>0</td>\n",
       "      <td>...</td>\n",
       "      <td>0</td>\n",
       "      <td>0</td>\n",
       "      <td>0</td>\n",
       "      <td>0</td>\n",
       "      <td>0</td>\n",
       "      <td>0</td>\n",
       "      <td>0</td>\n",
       "      <td>0</td>\n",
       "      <td>0</td>\n",
       "      <td>0</td>\n",
       "    </tr>\n",
       "  </tbody>\n",
       "</table>\n",
       "<p>3 rows × 1682 columns</p>\n",
       "</div>"
      ],
      "text/plain": [
       "   1  2  3  4  5  6  7  8  9  10  ...   1673  1674  1675  1676  1677  1678  \\\n",
       "1  5  3  4  3  3  5  4  1  5   3  ...      0     0     0     0     0     0   \n",
       "2  4  0  0  0  0  0  0  0  0   2  ...      0     0     0     0     0     0   \n",
       "3  0  0  0  0  0  0  0  0  0   0  ...      0     0     0     0     0     0   \n",
       "\n",
       "   1679  1680  1681  1682  \n",
       "1     0     0     0     0  \n",
       "2     0     0     0     0  \n",
       "3     0     0     0     0  \n",
       "\n",
       "[3 rows x 1682 columns]"
      ]
     },
     "execution_count": 4,
     "metadata": {},
     "output_type": "execute_result"
    }
   ],
   "source": [
    "ratings.head(3)"
   ]
  },
  {
   "cell_type": "code",
   "execution_count": 5,
   "metadata": {
    "collapsed": false
   },
   "outputs": [
    {
     "data": {
      "text/html": [
       "<div>\n",
       "<table border=\"1\" class=\"dataframe\">\n",
       "  <thead>\n",
       "    <tr style=\"text-align: right;\">\n",
       "      <th></th>\n",
       "      <th>Name</th>\n",
       "      <th>Unknown</th>\n",
       "      <th>Action</th>\n",
       "      <th>Adventure</th>\n",
       "      <th>Animation</th>\n",
       "      <th>Children</th>\n",
       "      <th>Comedy</th>\n",
       "      <th>Crime</th>\n",
       "      <th>Documentary</th>\n",
       "      <th>Drama</th>\n",
       "      <th>Fantacy</th>\n",
       "      <th>Film.Noir</th>\n",
       "      <th>Horror</th>\n",
       "      <th>Musical</th>\n",
       "      <th>Mystery</th>\n",
       "      <th>Romance</th>\n",
       "      <th>Sci.Fi</th>\n",
       "      <th>Thriller</th>\n",
       "      <th>War</th>\n",
       "      <th>Western</th>\n",
       "    </tr>\n",
       "    <tr>\n",
       "      <th>﻿Movie.ID</th>\n",
       "      <th></th>\n",
       "      <th></th>\n",
       "      <th></th>\n",
       "      <th></th>\n",
       "      <th></th>\n",
       "      <th></th>\n",
       "      <th></th>\n",
       "      <th></th>\n",
       "      <th></th>\n",
       "      <th></th>\n",
       "      <th></th>\n",
       "      <th></th>\n",
       "      <th></th>\n",
       "      <th></th>\n",
       "      <th></th>\n",
       "      <th></th>\n",
       "      <th></th>\n",
       "      <th></th>\n",
       "      <th></th>\n",
       "      <th></th>\n",
       "    </tr>\n",
       "  </thead>\n",
       "  <tbody>\n",
       "    <tr>\n",
       "      <th>1</th>\n",
       "      <td>Toy Story (1995)</td>\n",
       "      <td>0</td>\n",
       "      <td>0</td>\n",
       "      <td>0</td>\n",
       "      <td>1</td>\n",
       "      <td>1</td>\n",
       "      <td>1</td>\n",
       "      <td>0</td>\n",
       "      <td>0</td>\n",
       "      <td>0</td>\n",
       "      <td>0</td>\n",
       "      <td>0</td>\n",
       "      <td>0</td>\n",
       "      <td>0</td>\n",
       "      <td>0</td>\n",
       "      <td>0</td>\n",
       "      <td>0</td>\n",
       "      <td>0</td>\n",
       "      <td>0</td>\n",
       "      <td>0</td>\n",
       "    </tr>\n",
       "    <tr>\n",
       "      <th>2</th>\n",
       "      <td>GoldenEye (1995)</td>\n",
       "      <td>0</td>\n",
       "      <td>1</td>\n",
       "      <td>1</td>\n",
       "      <td>0</td>\n",
       "      <td>0</td>\n",
       "      <td>0</td>\n",
       "      <td>0</td>\n",
       "      <td>0</td>\n",
       "      <td>0</td>\n",
       "      <td>0</td>\n",
       "      <td>0</td>\n",
       "      <td>0</td>\n",
       "      <td>0</td>\n",
       "      <td>0</td>\n",
       "      <td>0</td>\n",
       "      <td>0</td>\n",
       "      <td>1</td>\n",
       "      <td>0</td>\n",
       "      <td>0</td>\n",
       "    </tr>\n",
       "    <tr>\n",
       "      <th>3</th>\n",
       "      <td>Four Rooms (1995)</td>\n",
       "      <td>0</td>\n",
       "      <td>0</td>\n",
       "      <td>0</td>\n",
       "      <td>0</td>\n",
       "      <td>0</td>\n",
       "      <td>0</td>\n",
       "      <td>0</td>\n",
       "      <td>0</td>\n",
       "      <td>0</td>\n",
       "      <td>0</td>\n",
       "      <td>0</td>\n",
       "      <td>0</td>\n",
       "      <td>0</td>\n",
       "      <td>0</td>\n",
       "      <td>0</td>\n",
       "      <td>0</td>\n",
       "      <td>1</td>\n",
       "      <td>0</td>\n",
       "      <td>0</td>\n",
       "    </tr>\n",
       "  </tbody>\n",
       "</table>\n",
       "</div>"
      ],
      "text/plain": [
       "                        Name  Unknown  Action  Adventure  Animation  Children  \\\n",
       "﻿Movie.ID                                                                       \n",
       "1           Toy Story (1995)        0       0          0          1         1   \n",
       "2           GoldenEye (1995)        0       1          1          0         0   \n",
       "3          Four Rooms (1995)        0       0          0          0         0   \n",
       "\n",
       "           Comedy  Crime  Documentary  Drama  Fantacy  Film.Noir  Horror  \\\n",
       "﻿Movie.ID                                                                  \n",
       "1               1      0            0      0        0          0       0   \n",
       "2               0      0            0      0        0          0       0   \n",
       "3               0      0            0      0        0          0       0   \n",
       "\n",
       "           Musical  Mystery  Romance  Sci.Fi  Thriller  War  Western  \n",
       "﻿Movie.ID                                                             \n",
       "1                0        0        0       0         0    0        0  \n",
       "2                0        0        0       0         1    0        0  \n",
       "3                0        0        0       0         1    0        0  "
      ]
     },
     "execution_count": 5,
     "metadata": {},
     "output_type": "execute_result"
    }
   ],
   "source": [
    "items.head(3)"
   ]
  },
  {
   "cell_type": "code",
   "execution_count": 6,
   "metadata": {
    "collapsed": false
   },
   "outputs": [
    {
     "data": {
      "text/html": [
       "<div>\n",
       "<table border=\"1\" class=\"dataframe\">\n",
       "  <thead>\n",
       "    <tr style=\"text-align: right;\">\n",
       "      <th></th>\n",
       "      <th>﻿Genre</th>\n",
       "      <th>ID</th>\n",
       "    </tr>\n",
       "  </thead>\n",
       "  <tbody>\n",
       "    <tr>\n",
       "      <th>0</th>\n",
       "      <td>unknown</td>\n",
       "      <td>0</td>\n",
       "    </tr>\n",
       "    <tr>\n",
       "      <th>1</th>\n",
       "      <td>Action</td>\n",
       "      <td>1</td>\n",
       "    </tr>\n",
       "    <tr>\n",
       "      <th>2</th>\n",
       "      <td>Adventure</td>\n",
       "      <td>2</td>\n",
       "    </tr>\n",
       "  </tbody>\n",
       "</table>\n",
       "</div>"
      ],
      "text/plain": [
       "      ﻿Genre  ID\n",
       "0    unknown   0\n",
       "1     Action   1\n",
       "2  Adventure   2"
      ]
     },
     "execution_count": 6,
     "metadata": {},
     "output_type": "execute_result"
    }
   ],
   "source": [
    "genre.head(3)"
   ]
  },
  {
   "cell_type": "markdown",
   "metadata": {},
   "source": [
    "### K-means Clustering: Users"
   ]
  },
  {
   "cell_type": "code",
   "execution_count": 7,
   "metadata": {
    "collapsed": true
   },
   "outputs": [],
   "source": [
    "from sklearn.cluster import KMeans"
   ]
  },
  {
   "cell_type": "code",
   "execution_count": 8,
   "metadata": {
    "collapsed": true
   },
   "outputs": [],
   "source": [
    "kmeans = KMeans(n_clusters=5)"
   ]
  },
  {
   "cell_type": "code",
   "execution_count": 9,
   "metadata": {
    "collapsed": false
   },
   "outputs": [
    {
     "data": {
      "text/plain": [
       "KMeans(copy_x=True, init='k-means++', max_iter=300, n_clusters=5, n_init=10,\n",
       "    n_jobs=1, precompute_distances='auto', random_state=None, tol=0.0001,\n",
       "    verbose=0)"
      ]
     },
     "execution_count": 9,
     "metadata": {},
     "output_type": "execute_result"
    }
   ],
   "source": [
    "kmeans.fit(ratings,)"
   ]
  },
  {
   "cell_type": "code",
   "execution_count": 10,
   "metadata": {
    "collapsed": true
   },
   "outputs": [],
   "source": [
    "labels = kmeans.labels_\n",
    "centroids = kmeans.cluster_centers_"
   ]
  },
  {
   "cell_type": "code",
   "execution_count": 11,
   "metadata": {
    "collapsed": false
   },
   "outputs": [
    {
     "data": {
      "text/html": [
       "<div>\n",
       "<table border=\"1\" class=\"dataframe\">\n",
       "  <thead>\n",
       "    <tr style=\"text-align: right;\">\n",
       "      <th></th>\n",
       "      <th>0</th>\n",
       "      <th>1</th>\n",
       "      <th>2</th>\n",
       "      <th>3</th>\n",
       "      <th>4</th>\n",
       "      <th>5</th>\n",
       "      <th>6</th>\n",
       "      <th>7</th>\n",
       "      <th>8</th>\n",
       "      <th>9</th>\n",
       "      <th>...</th>\n",
       "      <th>1672</th>\n",
       "      <th>1673</th>\n",
       "      <th>1674</th>\n",
       "      <th>1675</th>\n",
       "      <th>1676</th>\n",
       "      <th>1677</th>\n",
       "      <th>1678</th>\n",
       "      <th>1679</th>\n",
       "      <th>1680</th>\n",
       "      <th>1681</th>\n",
       "    </tr>\n",
       "  </thead>\n",
       "  <tbody>\n",
       "    <tr>\n",
       "      <th>0</th>\n",
       "      <td>0.519789</td>\n",
       "      <td>0.023747</td>\n",
       "      <td>0.013193</td>\n",
       "      <td>0.052770</td>\n",
       "      <td>0.105541</td>\n",
       "      <td>0.068602</td>\n",
       "      <td>0.467018</td>\n",
       "      <td>0.197889</td>\n",
       "      <td>0.612137</td>\n",
       "      <td>0.158311</td>\n",
       "      <td>...</td>\n",
       "      <td>2.341877e-17</td>\n",
       "      <td>-1.214306e-17</td>\n",
       "      <td>2.341877e-17</td>\n",
       "      <td>-6.071532e-18</td>\n",
       "      <td>2.341877e-17</td>\n",
       "      <td>2.638522e-03</td>\n",
       "      <td>7.915567e-03</td>\n",
       "      <td>5.277045e-03</td>\n",
       "      <td>2.341877e-17</td>\n",
       "      <td>2.341877e-17</td>\n",
       "    </tr>\n",
       "    <tr>\n",
       "      <th>1</th>\n",
       "      <td>2.963415</td>\n",
       "      <td>0.018293</td>\n",
       "      <td>0.457317</td>\n",
       "      <td>0.134146</td>\n",
       "      <td>0.109756</td>\n",
       "      <td>0.109756</td>\n",
       "      <td>2.402439</td>\n",
       "      <td>0.146341</td>\n",
       "      <td>1.658537</td>\n",
       "      <td>0.408537</td>\n",
       "      <td>...</td>\n",
       "      <td>-5.204170e-18</td>\n",
       "      <td>-1.040834e-17</td>\n",
       "      <td>1.829268e-02</td>\n",
       "      <td>1.219512e-02</td>\n",
       "      <td>-5.204170e-18</td>\n",
       "      <td>-2.602085e-18</td>\n",
       "      <td>-5.204170e-18</td>\n",
       "      <td>-5.204170e-18</td>\n",
       "      <td>-5.204170e-18</td>\n",
       "      <td>-5.204170e-18</td>\n",
       "    </tr>\n",
       "    <tr>\n",
       "      <th>2</th>\n",
       "      <td>2.492537</td>\n",
       "      <td>0.805970</td>\n",
       "      <td>0.552239</td>\n",
       "      <td>2.567164</td>\n",
       "      <td>0.402985</td>\n",
       "      <td>0.492537</td>\n",
       "      <td>2.776119</td>\n",
       "      <td>2.835821</td>\n",
       "      <td>2.626866</td>\n",
       "      <td>1.582090</td>\n",
       "      <td>...</td>\n",
       "      <td>-3.469447e-18</td>\n",
       "      <td>5.970149e-02</td>\n",
       "      <td>-3.469447e-18</td>\n",
       "      <td>-3.469447e-18</td>\n",
       "      <td>-3.469447e-18</td>\n",
       "      <td>-1.734723e-18</td>\n",
       "      <td>-3.469447e-18</td>\n",
       "      <td>-3.469447e-18</td>\n",
       "      <td>-3.469447e-18</td>\n",
       "      <td>-3.469447e-18</td>\n",
       "    </tr>\n",
       "    <tr>\n",
       "      <th>3</th>\n",
       "      <td>3.663265</td>\n",
       "      <td>2.204082</td>\n",
       "      <td>1.071429</td>\n",
       "      <td>2.663265</td>\n",
       "      <td>1.387755</td>\n",
       "      <td>0.051020</td>\n",
       "      <td>3.173469</td>\n",
       "      <td>2.265306</td>\n",
       "      <td>2.163265</td>\n",
       "      <td>0.571429</td>\n",
       "      <td>...</td>\n",
       "      <td>-5.637851e-18</td>\n",
       "      <td>-8.673617e-18</td>\n",
       "      <td>-5.637851e-18</td>\n",
       "      <td>-4.336809e-18</td>\n",
       "      <td>-5.637851e-18</td>\n",
       "      <td>-2.168404e-18</td>\n",
       "      <td>-5.637851e-18</td>\n",
       "      <td>-4.336809e-18</td>\n",
       "      <td>3.061224e-02</td>\n",
       "      <td>3.061224e-02</td>\n",
       "    </tr>\n",
       "    <tr>\n",
       "      <th>4</th>\n",
       "      <td>2.314894</td>\n",
       "      <td>0.587234</td>\n",
       "      <td>0.217021</td>\n",
       "      <td>1.136170</td>\n",
       "      <td>0.268085</td>\n",
       "      <td>0.046809</td>\n",
       "      <td>1.791489</td>\n",
       "      <td>1.548936</td>\n",
       "      <td>1.161702</td>\n",
       "      <td>0.221277</td>\n",
       "      <td>...</td>\n",
       "      <td>1.276596e-02</td>\n",
       "      <td>-1.127570e-17</td>\n",
       "      <td>9.974660e-18</td>\n",
       "      <td>-5.637851e-18</td>\n",
       "      <td>1.276596e-02</td>\n",
       "      <td>-2.818926e-18</td>\n",
       "      <td>9.974660e-18</td>\n",
       "      <td>-5.637851e-18</td>\n",
       "      <td>9.974660e-18</td>\n",
       "      <td>9.974660e-18</td>\n",
       "    </tr>\n",
       "  </tbody>\n",
       "</table>\n",
       "<p>5 rows × 1682 columns</p>\n",
       "</div>"
      ],
      "text/plain": [
       "       0         1         2         3         4         5         6     \\\n",
       "0  0.519789  0.023747  0.013193  0.052770  0.105541  0.068602  0.467018   \n",
       "1  2.963415  0.018293  0.457317  0.134146  0.109756  0.109756  2.402439   \n",
       "2  2.492537  0.805970  0.552239  2.567164  0.402985  0.492537  2.776119   \n",
       "3  3.663265  2.204082  1.071429  2.663265  1.387755  0.051020  3.173469   \n",
       "4  2.314894  0.587234  0.217021  1.136170  0.268085  0.046809  1.791489   \n",
       "\n",
       "       7         8         9         ...               1672          1673  \\\n",
       "0  0.197889  0.612137  0.158311      ...       2.341877e-17 -1.214306e-17   \n",
       "1  0.146341  1.658537  0.408537      ...      -5.204170e-18 -1.040834e-17   \n",
       "2  2.835821  2.626866  1.582090      ...      -3.469447e-18  5.970149e-02   \n",
       "3  2.265306  2.163265  0.571429      ...      -5.637851e-18 -8.673617e-18   \n",
       "4  1.548936  1.161702  0.221277      ...       1.276596e-02 -1.127570e-17   \n",
       "\n",
       "           1674          1675          1676          1677          1678  \\\n",
       "0  2.341877e-17 -6.071532e-18  2.341877e-17  2.638522e-03  7.915567e-03   \n",
       "1  1.829268e-02  1.219512e-02 -5.204170e-18 -2.602085e-18 -5.204170e-18   \n",
       "2 -3.469447e-18 -3.469447e-18 -3.469447e-18 -1.734723e-18 -3.469447e-18   \n",
       "3 -5.637851e-18 -4.336809e-18 -5.637851e-18 -2.168404e-18 -5.637851e-18   \n",
       "4  9.974660e-18 -5.637851e-18  1.276596e-02 -2.818926e-18  9.974660e-18   \n",
       "\n",
       "           1679          1680          1681  \n",
       "0  5.277045e-03  2.341877e-17  2.341877e-17  \n",
       "1 -5.204170e-18 -5.204170e-18 -5.204170e-18  \n",
       "2 -3.469447e-18 -3.469447e-18 -3.469447e-18  \n",
       "3 -4.336809e-18  3.061224e-02  3.061224e-02  \n",
       "4 -5.637851e-18  9.974660e-18  9.974660e-18  \n",
       "\n",
       "[5 rows x 1682 columns]"
      ]
     },
     "execution_count": 11,
     "metadata": {},
     "output_type": "execute_result"
    }
   ],
   "source": [
    "pd.set_option('display.max_rows', ratings.describe().shape[1])\n",
    "pd.DataFrame(centroids)"
   ]
  },
  {
   "cell_type": "code",
   "execution_count": 12,
   "metadata": {
    "collapsed": false
   },
   "outputs": [],
   "source": [
    "movie_names = items.Name"
   ]
  },
  {
   "cell_type": "code",
   "execution_count": 13,
   "metadata": {
    "collapsed": true
   },
   "outputs": [],
   "source": [
    "genre_types = items.columns[1:]"
   ]
  },
  {
   "cell_type": "code",
   "execution_count": 14,
   "metadata": {
    "collapsed": true
   },
   "outputs": [],
   "source": [
    "items_array = np.array(items)\n",
    "movie_genre = np.array(items[genre_types])"
   ]
  },
  {
   "cell_type": "code",
   "execution_count": 15,
   "metadata": {
    "collapsed": false
   },
   "outputs": [
    {
     "data": {
      "text/plain": [
       "array([['Toy Story (1995)', 0, 0, ..., 0, 0, 0],\n",
       "       ['GoldenEye (1995)', 0, 1, ..., 1, 0, 0],\n",
       "       ['Four Rooms (1995)', 0, 0, ..., 1, 0, 0],\n",
       "       ..., \n",
       "       ['Sliding Doors (1998)', 0, 0, ..., 0, 0, 0],\n",
       "       ['You So Crazy (1994)', 0, 0, ..., 0, 0, 0],\n",
       "       ['Scream of Stone (Schrei aus Stein) (1991)', 0, 0, ..., 0, 0, 0]], dtype=object)"
      ]
     },
     "execution_count": 15,
     "metadata": {},
     "output_type": "execute_result"
    }
   ],
   "source": [
    "items_array"
   ]
  },
  {
   "cell_type": "markdown",
   "metadata": {},
   "source": [
    "##### Cluster Definition"
   ]
  },
  {
   "cell_type": "code",
   "execution_count": 16,
   "metadata": {
    "collapsed": false
   },
   "outputs": [],
   "source": [
    "def FiveStarMovies(centroids, labels, k, NTerms):\n",
    "    five_star_movies = []\n",
    "    cluster_movies = []\n",
    "    for i in range(k):\n",
    "        cluster_members = ratings[labels==i]\n",
    "        print 'cluster',i+1,'size: ', cluster_members.shape[0]\n",
    "        movie_total_rating = np.array(cluster_members.sum(0)).astype(float)\n",
    "        movie_rating_count = np.array((cluster_members!=0).sum(0)).astype(float)\n",
    "        movie_average_rating = np.divide(movie_total_rating, movie_rating_count)\n",
    "        movie_average_rating[np.isnan(movie_average_rating)] = 0\n",
    "        rated_movie_list = sorted(zip(movie_names, movie_average_rating), key=lambda x: int(x[1]), reverse=True)\n",
    "        to_append = []\n",
    "        cluster_append = []\n",
    "        for j in rated_movie_list:\n",
    "            if j[1] == 5:\n",
    "                to_append.append(j[0]) \n",
    "            if j[1] != 0:\n",
    "                cluster_append.append(j[0])\n",
    "        five_star_movies.append(to_append)\n",
    "        cluster_movies.append(cluster_append)\n",
    "    print \"\\n\"\n",
    "    # most rated movies in each cluster\n",
    "    k = 0\n",
    "    for m in five_star_movies:\n",
    "        prototype = list(np.zeros(len(genre_types)))\n",
    "        for n in items_array:    \n",
    "            for i in m:\n",
    "                if i == n[0]:\n",
    "                    prototype += n[1:]\n",
    "        print \"Representative Movies:\"\n",
    "        for i in range(5):\n",
    "            print m[i]\n",
    "        print \"\\n\"\n",
    "        prototype = map(int, prototype)\n",
    "        movie_genre_to_use = sorted(zip(genre_types, prototype), key=lambda x:int(x[1]), reverse=True)\n",
    "        print \"Cluster\", k+1, \"top genre: \"\n",
    "        for i in movie_genre_to_use[:NTerms]:\n",
    "            print i[0]\n",
    "        print \"\\n\"\n",
    "        k += 1\n",
    "    return five_star_movies, cluster_movies"
   ]
  },
  {
   "cell_type": "code",
   "execution_count": 17,
   "metadata": {
    "collapsed": false,
    "scrolled": false
   },
   "outputs": [
    {
     "name": "stdout",
     "output_type": "stream",
     "text": [
      "cluster 1 size:  379\n",
      "cluster 2 size:  164\n",
      "cluster 3 size:  67\n",
      "cluster 4 size:  98\n",
      "cluster 5 size:  235\n",
      "\n",
      "\n",
      "Representative Movies:\n",
      "Four Rooms (1995)\n",
      "Faster Pussycat! Kill! Kill! (1965)\n",
      "Aristocats, The (1970)\n",
      "Homeward Bound: The Incredible Journey (1993)\n",
      "Paradise Lost: The Child Murders at Robin Hood Hills (1996\n",
      "\n",
      "\n",
      "Cluster 1 top genre: \n",
      "Drama\n",
      "Comedy\n",
      "Children\n",
      "Adventure\n",
      "Romance\n",
      "\n",
      "\n",
      "Representative Movies:\n",
      "Dolores Claiborne (1994)\n",
      "Three Colors: Red (1994)\n",
      "So I Married an Axe Murderer (1993)\n",
      "Dances with Wolves (1990)\n",
      "D3: The Mighty Ducks (1996)\n",
      "\n",
      "\n",
      "Cluster 2 top genre: \n",
      "Drama\n",
      "Comedy\n",
      "Romance\n",
      "Adventure\n",
      "Thriller\n",
      "\n",
      "\n",
      "Representative Movies:\n",
      "Baby-Sitters Club, The (1995)\n",
      "Timecop (1994)\n",
      "Great Day in Harlem, A (1994)\n",
      "Two or Three Things I Know About Her (1966)\n",
      "Hearts and Minds (1996)\n",
      "\n",
      "\n",
      "Cluster 3 top genre: \n",
      "Drama\n",
      "Comedy\n",
      "Action\n",
      "Animation\n",
      "Documentary\n",
      "\n",
      "\n",
      "Representative Movies:\n",
      "Shanghai Triad (Yao a yao yao dao waipo qiao) (1995)\n",
      "Horseman on the Roof, The (Hussard sur le toit, Le) (1995)\n",
      "Maya Lin: A Strong Clear Vision (1994)\n",
      "Meet John Doe (1941)\n",
      "Telling Lies in America (1997)\n",
      "\n",
      "\n",
      "Cluster 4 top genre: \n",
      "Drama\n",
      "Comedy\n",
      "Documentary\n",
      "Romance\n",
      "Action\n",
      "\n",
      "\n",
      "Representative Movies:\n",
      "Maya Lin: A Strong Clear Vision (1994)\n",
      "Turbo: A Power Rangers Movie (1997)\n",
      "Pillow Book, The (1995)\n",
      "Perfect Candidate, A (1996)\n",
      "Washington Square (1997)\n",
      "\n",
      "\n",
      "Cluster 5 top genre: \n",
      "Drama\n",
      "Comedy\n",
      "Action\n",
      "Documentary\n",
      "Sci.Fi\n",
      "\n",
      "\n"
     ]
    }
   ],
   "source": [
    "five_star_movies, cluster_movies = FiveStarMovies(centroids, labels, 5, 5)"
   ]
  },
  {
   "cell_type": "code",
   "execution_count": 18,
   "metadata": {
    "collapsed": false
   },
   "outputs": [
    {
     "data": {
      "text/plain": [
       "array([3, 1, 0, 0, 4], dtype=int32)"
      ]
     },
     "execution_count": 18,
     "metadata": {},
     "output_type": "execute_result"
    }
   ],
   "source": [
    "labels = kmeans.labels_; labels[0:5]"
   ]
  },
  {
   "cell_type": "markdown",
   "metadata": {},
   "source": [
    "### KNN: Using Cluster Labels"
   ]
  },
  {
   "cell_type": "code",
   "execution_count": 19,
   "metadata": {
    "collapsed": false
   },
   "outputs": [
    {
     "name": "stdout",
     "output_type": "stream",
     "text": [
      "(754, 1682) (189, 1682)\n",
      "     1  2  3  4  5  6  7  8  9  10  ...   1673  1674  1675  1676  1677  1678  \\\n",
      "462  0  0  0  0  0  0  0  0  0   0  ...      0     0     0     0     0     0   \n",
      "301  4  2  2  4  0  0  4  4  3   0  ...      0     0     0     0     0     0   \n",
      "235  4  0  0  0  0  0  4  0  0   0  ...      0     0     0     0     0     0   \n",
      "691  5  0  0  0  0  0  0  2  0   0  ...      0     0     0     0     0     0   \n",
      "176  0  0  0  0  0  0  5  0  0   0  ...      0     0     0     0     0     0   \n",
      "\n",
      "     1679  1680  1681  1682  \n",
      "462     0     0     0     0  \n",
      "301     0     0     0     0  \n",
      "235     0     0     0     0  \n",
      "691     0     0     0     0  \n",
      "176     0     0     0     0  \n",
      "\n",
      "[5 rows x 1682 columns]\n"
     ]
    }
   ],
   "source": [
    "from sklearn.cross_validation import train_test_split\n",
    "r_train, r_test, target_train, target_test = train_test_split(ratings, labels, test_size=0.2, random_state=33)\n",
    "\n",
    "print r_train.shape, r_test.shape\n",
    "print r_test[0:5]"
   ]
  },
  {
   "cell_type": "code",
   "execution_count": 20,
   "metadata": {
    "collapsed": true
   },
   "outputs": [],
   "source": [
    "from sklearn import preprocessing\n",
    "min_max_scaler = preprocessing.MinMaxScaler().fit(r_train)\n",
    "train_norm = min_max_scaler.fit_transform(r_train)\n",
    "test_norm = min_max_scaler.fit_transform(r_test)"
   ]
  },
  {
   "cell_type": "code",
   "execution_count": 21,
   "metadata": {
    "collapsed": true
   },
   "outputs": [],
   "source": [
    "def KNN_Classifier(instance, dat, label, k, measure):\n",
    "    if measure == \"euclidean\":\n",
    "        dists = np.sqrt(((dat-instance)**2).sum(axis=1))\n",
    "    elif measure == \"cosine\":\n",
    "        dat_norm = np.array([np.linalg.norm(dat[j]) for j in range(len(dat))])\n",
    "        instance_norm = np.linalg.norm(instance)\n",
    "        sims = np.dot(dat, instance)/(dat_norm*instance_norm)\n",
    "        dists = 1 - sims\n",
    "    idx = np.argsort(dists)\n",
    "    neighbor_index = idx[:k]\n",
    "    neighbor_record = dat[[neighbor_index]]\n",
    "    labels = label[[neighbor_index]]\n",
    "    final_class = np.bincount(labels)\n",
    "    return np.argmax(final_class), idx[:k]"
   ]
  },
  {
   "cell_type": "code",
   "execution_count": 22,
   "metadata": {
    "collapsed": true
   },
   "outputs": [],
   "source": [
    "def Comp_Accuracy(testdata, testlabel, traindata, trainlabel, k, measure):\n",
    "    correct = 0\n",
    "    for i in range(testdata.shape[0]):\n",
    "        pred_class = KNN_Classifier(testdata[i], traindata, trainlabel, k, measure)\n",
    "        if pred_class[0] == testlabel[i]:\n",
    "            correct += 1\n",
    "    accuracy_rate = float(correct)/float(testdata.shape[0])\n",
    "    return accuracy_rate"
   ]
  },
  {
   "cell_type": "code",
   "execution_count": 23,
   "metadata": {
    "collapsed": false
   },
   "outputs": [
    {
     "data": {
      "text/plain": [
       "0.544973544973545"
      ]
     },
     "execution_count": 23,
     "metadata": {},
     "output_type": "execute_result"
    }
   ],
   "source": [
    "Comp_Accuracy(test_norm, target_test, train_norm, target_train, 5, \"euclidean\")"
   ]
  },
  {
   "cell_type": "code",
   "execution_count": 24,
   "metadata": {
    "collapsed": false
   },
   "outputs": [
    {
     "name": "stdout",
     "output_type": "stream",
     "text": [
      "[0.6031746031746031, 0.5291005291005291, 0.5714285714285714, 0.5132275132275133, 0.544973544973545, 0.5026455026455027, 0.5396825396825397, 0.48677248677248675, 0.5238095238095238, 0.4973544973544973, 0.5185185185185185, 0.47619047619047616, 0.49206349206349204, 0.48148148148148145, 0.49206349206349204, 0.4656084656084656, 0.455026455026455, 0.4444444444444444, 0.4444444444444444, 0.43386243386243384]\n"
     ]
    }
   ],
   "source": [
    "euc_accuracy = []\n",
    "for i in range(1, 21):\n",
    "    result = Comp_Accuracy(test_norm, target_test, train_norm, target_train, i, \"euclidean\")\n",
    "    euc_accuracy.append(result)\n",
    "print euc_accuracy"
   ]
  },
  {
   "cell_type": "code",
   "execution_count": 25,
   "metadata": {
    "collapsed": true
   },
   "outputs": [],
   "source": [
    "import matplotlib.pyplot as plt\n",
    "import matplotlib.patches as mpatches\n",
    "%matplotlib inline"
   ]
  },
  {
   "cell_type": "code",
   "execution_count": 26,
   "metadata": {
    "collapsed": false
   },
   "outputs": [
    {
     "data": {
      "text/plain": [
       "<matplotlib.legend.Legend at 0x12076e510>"
      ]
     },
     "execution_count": 26,
     "metadata": {},
     "output_type": "execute_result"
    },
    {
     "data": {
      "image/png": "[encoded data removed]",
      "text/plain": [
       "<matplotlib.figure.Figure at 0x11f84d890>"
      ]
     },
     "metadata": {},
     "output_type": "display_data"
    }
   ],
   "source": [
    "k = np.array(range(1, 21))\n",
    "euc = np.array(euc_accuracy)\n",
    "fig = plt.figure(figsize=(10,4))\n",
    "ax1 = fig.add_subplot(121)\n",
    "ax1.set_title(\"Comparison of KNN Classifier Performance Using Between different K\")\n",
    "ax1.set_xlabel('Number of Neighbors (k)')\n",
    "ax1.set_ylabel('Accuracy Rate')\n",
    "plt.plot(k, euc, 'r--', label='Euclidean Distance')\n",
    "plt.legend(bbox_to_anchor=(1.05, 1), loc=2, borderaxespad=0.)"
   ]
  },
  {
   "cell_type": "markdown",
   "metadata": {},
   "source": [
    "As shown above, when k=1, the KNN classifier achieves the max accuracy."
   ]
  },
  {
   "cell_type": "code",
   "execution_count": 51,
   "metadata": {
    "collapsed": false
   },
   "outputs": [],
   "source": [
    "def getmovies(instance, dat, label, movies, n=5, k=1, measure=\"euclidean\"):\n",
    "    assigned_class = KNN_Classifier(instance, dat, label, k, measure)\n",
    "    print \"You might also like:\"\n",
    "    for i in range(n):\n",
    "        print movies[int(assigned_class[0])][i]"
   ]
  },
  {
   "cell_type": "markdown",
   "metadata": {},
   "source": [
    "Recommend top 5 movies based on its cluster assignment. There is no rating prediction involved."
   ]
  },
  {
   "cell_type": "code",
   "execution_count": 52,
   "metadata": {
    "collapsed": false
   },
   "outputs": [
    {
     "name": "stdout",
     "output_type": "stream",
     "text": [
      "You might also like:\n",
      "Four Rooms (1995)\n",
      "Faster Pussycat! Kill! Kill! (1965)\n",
      "Aristocats, The (1970)\n",
      "Homeward Bound: The Incredible Journey (1993)\n",
      "Paradise Lost: The Child Murders at Robin Hood Hills (1996\n"
     ]
    }
   ],
   "source": [
    "getmovies(test_norm[0], train_norm, target_train, five_star_movies)"
   ]
  },
  {
   "cell_type": "markdown",
   "metadata": {},
   "source": [
    "As shown above, KNN with clustering labels is not a recommendation that is as elegant and personalized as other approaches such as collaborative filtering. Therefore, this method is not preferred."
   ]
  }
 ],
 "metadata": {
  "kernelspec": {
   "display_name": "Python 2",
   "language": "python",
   "name": "python2"
  },
  "language_info": {
   "codemirror_mode": {
    "name": "ipython",
    "version": 2
   },
   "file_extension": ".py",
   "mimetype": "text/x-python",
   "name": "python",
   "nbconvert_exporter": "python",
   "pygments_lexer": "ipython2",
   "version": "2.7.11"
  }
 },
 "nbformat": 4,
 "nbformat_minor": 0
}
